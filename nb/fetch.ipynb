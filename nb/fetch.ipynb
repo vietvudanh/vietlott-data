{
 "cells": [
  {
   "cell_type": "code",
   "execution_count": 2,
   "id": "c84a1ca9-4b1e-4c5e-a0d3-37d3f7fe8316",
   "metadata": {},
   "outputs": [
    {
     "name": "stdout",
     "output_type": "stream",
     "text": [
      "Collecting requests\n",
      "  Using cached requests-2.32.3-py3-none-any.whl.metadata (4.6 kB)\n",
      "Collecting charset-normalizer<4,>=2 (from requests)\n",
      "  Downloading charset_normalizer-3.4.1-cp310-cp310-macosx_10_9_universal2.whl.metadata (35 kB)\n",
      "Collecting idna<4,>=2.5 (from requests)\n",
      "  Using cached idna-3.10-py3-none-any.whl.metadata (10 kB)\n",
      "Collecting urllib3<3,>=1.21.1 (from requests)\n",
      "  Downloading urllib3-2.3.0-py3-none-any.whl.metadata (6.5 kB)\n",
      "Collecting certifi>=2017.4.17 (from requests)\n",
      "  Downloading certifi-2024.12.14-py3-none-any.whl.metadata (2.3 kB)\n",
      "Using cached requests-2.32.3-py3-none-any.whl (64 kB)\n",
      "Downloading certifi-2024.12.14-py3-none-any.whl (164 kB)\n",
      "\u001b[2K   \u001b[38;2;114;156;31m━━━━━━━━━━━━━━━━━━━━━━━━━━━━━━━━━━━━━━━━\u001b[0m \u001b[32m164.9/164.9 kB\u001b[0m \u001b[31m1.8 MB/s\u001b[0m eta \u001b[36m0:00:00\u001b[0mm eta \u001b[36m0:00:01\u001b[0m36m0:00:01\u001b[0m\n",
      "Downloading charset_normalizer-3.4.1-cp310-cp310-macosx_10_9_universal2.whl (198 kB)\n",
      "\u001b[2K   \u001b[38;2;114;156;31m━━━━━━━━━━━━━━━━━━━━━━━━━━━━━━━━━━━━━━━━\u001b[0m \u001b[32m198.0/198.0 kB\u001b[0m \u001b[31m2.2 MB/s\u001b[0m eta \u001b[36m0:00:00\u001b[0m[36m0:00:01\u001b[0m36m0:00:01\u001b[0m\n",
      "\u001b[?25hUsing cached idna-3.10-py3-none-any.whl (70 kB)\n",
      "Downloading urllib3-2.3.0-py3-none-any.whl (128 kB)\n",
      "\u001b[2K   \u001b[38;2;114;156;31m━━━━━━━━━━━━━━━━━━━━━━━━━━━━━━━━━━━━━━━━\u001b[0m \u001b[32m128.4/128.4 kB\u001b[0m \u001b[31m1.9 MB/s\u001b[0m eta \u001b[36m0:00:00\u001b[0m31m2.4 MB/s\u001b[0m eta \u001b[36m0:00:01\u001b[0m\n",
      "Installing collected packages: urllib3, idna, charset-normalizer, certifi, requests\n",
      "Successfully installed certifi-2024.12.14 charset-normalizer-3.4.1 idna-3.10 requests-2.32.3 urllib3-2.3.0\n",
      "\n",
      "\u001b[1m[\u001b[0m\u001b[34;49mnotice\u001b[0m\u001b[1;39;49m]\u001b[0m\u001b[39;49m A new release of pip is available: \u001b[0m\u001b[31;49m24.1.2\u001b[0m\u001b[39;49m -> \u001b[0m\u001b[32;49m24.3.1\u001b[0m\n",
      "\u001b[1m[\u001b[0m\u001b[34;49mnotice\u001b[0m\u001b[1;39;49m]\u001b[0m\u001b[39;49m To update, run: \u001b[0m\u001b[32;49m/Users/vietvu/.local/share/mise/installs/python/3.10.14/bin/python -m pip install --upgrade pip\u001b[0m\n"
     ]
    }
   ],
   "source": [
    "!{sys.executable} -m pip install requests"
   ]
  },
  {
   "cell_type": "code",
   "execution_count": 3,
   "id": "a3a9368d-f7e1-48d7-becc-df5a1e20ef4d",
   "metadata": {},
   "outputs": [],
   "source": [
    "import requests"
   ]
  },
  {
   "cell_type": "markdown",
   "id": "583a6dd5-fda7-43b4-a669-465038e8ba4e",
   "metadata": {},
   "source": [
    "# wrong"
   ]
  },
  {
   "cell_type": "code",
   "execution_count": 4,
   "id": "b24019ea-1fc0-4155-9d1d-875d30946e56",
   "metadata": {},
   "outputs": [],
   "source": [
    "args = {\"params\": {}, \"body\": {\"PageIndex\": 1}}\n",
    "headers = {\n",
    "    \"Cookie\": None,\n",
    "    \"User-Agent\": \"Mozilla/5.0 (Macintosh; Intel Mac OS X 10.15; rv:128.0) Gecko/20100101 Firefox/128.0\",\n",
    "    \"Accept\": \"*/*\",\n",
    "    \"Accept-Language\": \"en-US,en;q=0.5\",\n",
    "    \"Content-Type\": \"application/octet-stream\",\n",
    "    \"X-Requested-With\": \"XMLHttpRequest\",\n",
    "    \"X-csrftoken\": \"1813c50925a5f035fe1d472bf49fd2760de7f4694b082b2d5ba8a2aad77c7886dc16b6ac9946c6fb\",\n",
    "    \"X-Ajax-Token\": \"f5cfca365b94035ece913dd1d70f7d9e91597ca23872847b74bc2f5d84cb1356\",\n",
    "    \"Origin\": \"https://vietlott.vn\",\n",
    "    \"Connection\": \"keep-alive\",\n",
    "    \"Referer\": \"https://vietlott.vn/vi/trung-thuong/ket-qua-trung-thuong/winning-number-655\",\n",
    "    \"Sec-Fetch-Dest\": \"empty\",\n",
    "    \"Sec-Fetch-Mode\": \"cors\",\n",
    "    \"Sec-Fetch-Site\": \"same-origin\",\n",
    "    \"Priority\": \"u=0\",\n",
    "}\n",
    "cookies = None\n",
    "body = {\n",
    "    \"ORenderInfo\": {\n",
    "        \"ExtraParam1\": \"\",\n",
    "        \"ExtraParam2\": \"\",\n",
    "        \"ExtraParam3\": \"\",\n",
    "        \"FullPageAlias\": None,\n",
    "        \"IsPageDesign\": False,\n",
    "        \"OrgPageAlias\": None,\n",
    "        \"PageAlias\": None,\n",
    "        \"RefKey\": None,\n",
    "        \"SiteAlias\": \"main.vi\",\n",
    "        \"SiteId\": \"main.frontend.vi\",\n",
    "        \"SiteLang\": \"vi\",\n",
    "        \"SiteName\": \"Vietlott\",\n",
    "        \"SiteURL\": \"\",\n",
    "        \"System\": 1,\n",
    "        \"UserSessionId\": \"\",\n",
    "        \"WebPage\": None,\n",
    "    },\n",
    "    \"Key\": \"23bbd667\",\n",
    "    \"GameDrawId\": \"\",\n",
    "    \"ArrayNumbers\": [\n",
    "        [\"\", \"\", \"\", \"\", \"\", \"\", \"\", \"\", \"\", \"\", \"\", \"\", \"\", \"\", \"\", \"\", \"\", \"\"],\n",
    "        [\"\", \"\", \"\", \"\", \"\", \"\", \"\", \"\", \"\", \"\", \"\", \"\", \"\", \"\", \"\", \"\", \"\", \"\"],\n",
    "        [\"\", \"\", \"\", \"\", \"\", \"\", \"\", \"\", \"\", \"\", \"\", \"\", \"\", \"\", \"\", \"\", \"\", \"\"],\n",
    "        [\"\", \"\", \"\", \"\", \"\", \"\", \"\", \"\", \"\", \"\", \"\", \"\", \"\", \"\", \"\", \"\", \"\", \"\"],\n",
    "        [\"\", \"\", \"\", \"\", \"\", \"\", \"\", \"\", \"\", \"\", \"\", \"\", \"\", \"\", \"\", \"\", \"\", \"\"],\n",
    "    ],\n",
    "    \"CheckMulti\": False,\n",
    "    \"PageIndex\": 1,\n",
    "}\n",
    "params = {}"
   ]
  },
  {
   "cell_type": "code",
   "execution_count": 5,
   "id": "b288f506-66c2-4a7a-9e42-42752dae8273",
   "metadata": {},
   "outputs": [],
   "source": [
    "url = \"https://vietlott.vn/ajaxpro/Vietlott.PlugIn.WebParts.Game655CompareWebPart,Vietlott.PlugIn.WebParts.ashx\"\n",
    "# url = \"https://vietlott.vn/ajaxpro/Vietlott.PlugIn.WebParts.Game645CompareWebPart,Vietlott.PlugIn.WebParts.ashx\""
   ]
  },
  {
   "cell_type": "code",
   "execution_count": 8,
   "id": "fd9859e7-ddc0-4514-947a-cd54d793fb09",
   "metadata": {},
   "outputs": [],
   "source": [
    "res = requests.post(url=url, headers=headers, data=body)"
   ]
  },
  {
   "cell_type": "code",
   "execution_count": 9,
   "id": "f5feb3d0-a44b-47d7-8b68-debefd88f92e",
   "metadata": {},
   "outputs": [
    {
     "data": {
      "text/plain": [
       "''"
      ]
     },
     "execution_count": 9,
     "metadata": {},
     "output_type": "execute_result"
    }
   ],
   "source": [
    "res.text"
   ]
  },
  {
   "cell_type": "markdown",
   "id": "f490cf60-e96d-4567-8a31-f48d9c7d713a",
   "metadata": {},
   "source": [
    "# correct"
   ]
  },
  {
   "cell_type": "code",
   "execution_count": 10,
   "id": "8591ec25-d177-4dfc-919d-748491ced192",
   "metadata": {},
   "outputs": [],
   "source": [
    "import requests\n",
    "\n",
    "# cookies = {\n",
    "#     'session-cookie': '181851e12f2dc35d3be144ac4c95548f0fc2e62f7994b2adf617e39de648825cbddef8506883d7f9aa0acf4fc8d43a65',\n",
    "#     'csrf-token-name': 'csrftoken',\n",
    "#     'csrf-token-value': '181851e6329b24162cfcf7e0b6f7a36cde2a0dc7873df4d8420e51eff396e759e9fd4713051870ad',\n",
    "# }\n",
    "\n",
    "headers = {\n",
    "    \"User-Agent\": \"Mozilla/5.0 (Macintosh; Intel Mac OS X 10.15; rv:128.0) Gecko/20100101 Firefox/128.0\",\n",
    "    \"Accept\": \"*/*\",\n",
    "    \"Accept-Language\": \"en-US,en;q=0.5\",\n",
    "    # 'Accept-Encoding': 'gzip, deflate, br, zstd',\n",
    "    \"Content-Type\": \"text/plain; charset=utf-8\",\n",
    "    \"X-AjaxPro-Method\": \"ServerSideDrawResult\",\n",
    "    \"X-Requested-With\": \"XMLHttpRequest\",\n",
    "    \"X-csrftoken\": \"181851e48a003a0bdfe8ad7c91d6ed984063e06f8f364c11822a91b4be86c43048b7d4803839cef1\",\n",
    "    \"X-Ajax-Token\": \"d9d061f7ac64a3af56acf8595fdddc3a681a0e3ac35235979caf153685ed09fb\",\n",
    "    \"Origin\": \"https://vietlott.vn\",\n",
    "    \"Connection\": \"keep-alive\",\n",
    "    \"Referer\": \"https://vietlott.vn/vi/trung-thuong/ket-qua-trung-thuong/winning-number-645\",\n",
    "    # 'Cookie': 'session-cookie=181851e12f2dc35d3be144ac4c95548f0fc2e62f7994b2adf617e39de648825cbddef8506883d7f9aa0acf4fc8d43a65; csrf-token-name=csrftoken; csrf-token-value=181851e6329b24162cfcf7e0b6f7a36cde2a0dc7873df4d8420e51eff396e759e9fd4713051870ad',\n",
    "    \"Sec-Fetch-Dest\": \"empty\",\n",
    "    \"Sec-Fetch-Mode\": \"cors\",\n",
    "    \"Sec-Fetch-Site\": \"same-origin\",\n",
    "    # Requests doesn't support trailers\n",
    "    # 'TE': 'trailers',\n",
    "}\n",
    "\n",
    "data = '{\"ORenderInfo\":{\"SiteId\":\"main.frontend.vi\",\"SiteAlias\":\"main.vi\",\"UserSessionId\":\"\",\"SiteLang\":\"vi\",\"IsPageDesign\":false,\"ExtraParam1\":\"\",\"ExtraParam2\":\"\",\"ExtraParam3\":\"\",\"SiteURL\":\"\",\"WebPage\":null,\"SiteName\":\"Vietlott\",\"OrgPageAlias\":null,\"PageAlias\":null,\"FullPageAlias\":null,\"RefKey\":null,\"System\":1},\"Key\":\"bad4de7e\",\"GameDrawId\":\"\",\"ArrayNumbers\":[[\"\",\"\",\"\",\"\",\"\",\"\",\"\",\"\",\"\",\"\",\"\",\"\",\"\",\"\",\"\",\"\",\"\",\"\"],[\"\",\"\",\"\",\"\",\"\",\"\",\"\",\"\",\"\",\"\",\"\",\"\",\"\",\"\",\"\",\"\",\"\",\"\"],[\"\",\"\",\"\",\"\",\"\",\"\",\"\",\"\",\"\",\"\",\"\",\"\",\"\",\"\",\"\",\"\",\"\",\"\"],[\"\",\"\",\"\",\"\",\"\",\"\",\"\",\"\",\"\",\"\",\"\",\"\",\"\",\"\",\"\",\"\",\"\",\"\"],[\"\",\"\",\"\",\"\",\"\",\"\",\"\",\"\",\"\",\"\",\"\",\"\",\"\",\"\",\"\",\"\",\"\",\"\"],[\"\",\"\",\"\",\"\",\"\",\"\",\"\",\"\",\"\",\"\",\"\",\"\",\"\",\"\",\"\",\"\",\"\",\"\"]],\"CheckMulti\":false,\"PageIndex\":1}'\n",
    "\n",
    "response = requests.post(\n",
    "    \"https://vietlott.vn/ajaxpro/Vietlott.PlugIn.WebParts.Game645CompareWebPart,Vietlott.PlugIn.WebParts.ashx\",\n",
    "    cookies=cookies,\n",
    "    headers=headers,\n",
    "    data=data,\n",
    ")"
   ]
  },
  {
   "cell_type": "code",
   "execution_count": 20,
   "id": "a61fe472-63d0-4d7b-8bcf-0fbef7756760",
   "metadata": {},
   "outputs": [],
   "source": [
    "import json\n",
    "\n",
    "old_data = json.loads(\"\"\"{\n",
    "  \"ORenderInfo\": {\n",
    "    \"ExtraParam1\": \"\",\n",
    "    \"ExtraParam2\": \"\",\n",
    "    \"ExtraParam3\": \"\",\n",
    "    \"FullPageAlias\": null,\n",
    "    \"IsPageDesign\": false,\n",
    "    \"OrgPageAlias\": null,\n",
    "    \"PageAlias\": null,\n",
    "    \"RefKey\": null,\n",
    "    \"SiteAlias\": \"main.vi\",\n",
    "    \"SiteId\": \"main.frontend.vi\",\n",
    "    \"SiteLang\": \"vi\",\n",
    "    \"SiteName\": \"Vietlott\",\n",
    "    \"SiteURL\": \"\",\n",
    "    \"System\": 1,\n",
    "    \"UserSessionId\": \"\",\n",
    "    \"WebPage\": null\n",
    "  },\n",
    "  \"Key\": \"23bbd667\",\n",
    "  \"GameDrawId\": \"\",\n",
    "  \"ArrayNumbers\": [\n",
    "    [\"\", \"\", \"\", \"\", \"\", \"\", \"\", \"\", \"\", \"\", \"\", \"\", \"\", \"\", \"\", \"\", \"\", \"\"],\n",
    "    [\"\", \"\", \"\", \"\", \"\", \"\", \"\", \"\", \"\", \"\", \"\", \"\", \"\", \"\", \"\", \"\", \"\", \"\"],\n",
    "    [\"\", \"\", \"\", \"\", \"\", \"\", \"\", \"\", \"\", \"\", \"\", \"\", \"\", \"\", \"\", \"\", \"\", \"\"],\n",
    "    [\"\", \"\", \"\", \"\", \"\", \"\", \"\", \"\", \"\", \"\", \"\", \"\", \"\", \"\", \"\", \"\", \"\", \"\"],\n",
    "    [\"\", \"\", \"\", \"\", \"\", \"\", \"\", \"\", \"\", \"\", \"\", \"\", \"\", \"\", \"\", \"\", \"\", \"\"]\n",
    "  ],\n",
    "  \"CheckMulti\": false,\n",
    "  \"PageIndex\": 1\n",
    "}\n",
    "\"\"\")\n",
    "\n",
    "new_data = json.loads(\"\"\"{\n",
    "  \"ORenderInfo\": {\n",
    "    \"ExtraParam1\": \"\",\n",
    "    \"ExtraParam2\": \"\",\n",
    "    \"ExtraParam3\": \"\",\n",
    "    \"FullPageAlias\": null,\n",
    "    \"IsPageDesign\": false,\n",
    "    \"OrgPageAlias\": null,\n",
    "    \"PageAlias\": null,\n",
    "    \"RefKey\": null,\n",
    "    \"SiteAlias\": \"main.vi\",\n",
    "    \"SiteId\": \"main.frontend.vi\",\n",
    "    \"SiteLang\": \"vi\",\n",
    "    \"SiteName\": \"Vietlott\",\n",
    "    \"SiteURL\": \"\",\n",
    "    \"System\": 1,\n",
    "    \"UserSessionId\": \"\",\n",
    "    \"WebPage\": null\n",
    "  },\n",
    "  \"Key\": \"bad4de7e\",\n",
    "  \"GameDrawId\": \"\",\n",
    "  \"ArrayNumbers\": [\n",
    "    [\"\", \"\", \"\", \"\", \"\", \"\", \"\", \"\", \"\", \"\", \"\", \"\", \"\", \"\", \"\", \"\", \"\", \"\"],\n",
    "    [\"\", \"\", \"\", \"\", \"\", \"\", \"\", \"\", \"\", \"\", \"\", \"\", \"\", \"\", \"\", \"\", \"\", \"\"],\n",
    "    [\"\", \"\", \"\", \"\", \"\", \"\", \"\", \"\", \"\", \"\", \"\", \"\", \"\", \"\", \"\", \"\", \"\", \"\"],\n",
    "    [\"\", \"\", \"\", \"\", \"\", \"\", \"\", \"\", \"\", \"\", \"\", \"\", \"\", \"\", \"\", \"\", \"\", \"\"],\n",
    "    [\"\", \"\", \"\", \"\", \"\", \"\", \"\", \"\", \"\", \"\", \"\", \"\", \"\", \"\", \"\", \"\", \"\", \"\"],\n",
    "    [\"\", \"\", \"\", \"\", \"\", \"\", \"\", \"\", \"\", \"\", \"\", \"\", \"\", \"\", \"\", \"\", \"\", \"\"]\n",
    "  ],\n",
    "  \"CheckMulti\": false,\n",
    "  \"PageIndex\": 1\n",
    "}\n",
    "\"\"\")"
   ]
  },
  {
   "cell_type": "code",
   "execution_count": 24,
   "id": "4b173863-e0a9-4554-8851-5946bc9546e8",
   "metadata": {},
   "outputs": [
    {
     "data": {
      "text/plain": [
       "'{\"value\":{\"HtmlContent\":\"Index was outside the bounds of the array.\",\"InfoMessage\":\"Index was outside the bounds of the array.\",\"JsonData\":\"\",\"Error\":true,\"Target\":\"_self\",\"SaveFile\":null,\"RetNumber\":0,\"RetNumber1\":0,\"RetNumber2\":0,\"RetNumber3\":0,\"RetNumber4\":0,\"RetNumber5\":0,\"RetDecimal\":0,\"RetDecimal1\":0,\"RetDecimal2\":0,\"RetDecimal3\":0,\"RetDecimal4\":0,\"RetDecimal5\":0,\"RetExtraParam\":null,\"RetExtraParam1\":null,\"RetExtraParam2\":null,\"RetExtraParam3\":null,\"RetExtraParam4\":null,\"RetExtraParam5\":null,\"RetBoolean\":false,\"RefKeyId\":null,\"RetUrl\":null,\"RetTarget\":\"_self\",\"FocusControl\":null,\"RetObject\":null,\"RetObject1\":null,\"RetObject2\":null,\"RetObject3\":null,\"RetObject4\":null,\"RetObject5\":null,\"RetBytes\":null}}'"
      ]
     },
     "execution_count": 24,
     "metadata": {},
     "output_type": "execute_result"
    }
   ],
   "source": [
    "requests.post(\n",
    "    \"https://vietlott.vn/ajaxpro/Vietlott.PlugIn.WebParts.Game645CompareWebPart,Vietlott.PlugIn.WebParts.ashx\",\n",
    "    # cookies=cookies,\n",
    "    headers=headers,\n",
    "    data=json.dumps(old_data),\n",
    ").text"
   ]
  },
  {
   "cell_type": "code",
   "execution_count": null,
   "id": "677ff70c-00a5-4150-8f33-15d71deebec8",
   "metadata": {},
   "outputs": [],
   "source": []
  }
 ],
 "metadata": {
  "kernelspec": {
   "display_name": "etl-k8s",
   "language": "python",
   "name": "etl-k8s"
  },
  "language_info": {
   "codemirror_mode": {
    "name": "ipython",
    "version": 3
   },
   "file_extension": ".py",
   "mimetype": "text/x-python",
   "name": "python",
   "nbconvert_exporter": "python",
   "pygments_lexer": "ipython3",
   "version": "3.10.14"
  }
 },
 "nbformat": 4,
 "nbformat_minor": 5
}
