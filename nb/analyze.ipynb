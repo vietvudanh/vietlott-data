{
 "cells": [
  {
   "cell_type": "code",
   "execution_count": 46,
   "metadata": {
    "pycharm": {
     "name": "#%%\n"
    }
   },
   "outputs": [],
   "source": [
    "import datetime\n",
    "\n",
    "import pandas as pd\n",
    "import seaborn as sns\n",
    "\n",
    "%matplotlib inline\n",
    "sns.set()"
   ]
  },
  {
   "cell_type": "code",
   "execution_count": 4,
   "metadata": {
    "pycharm": {
     "name": "#%%\n"
    }
   },
   "outputs": [],
   "source": [
    "!cat ../data/655/*.jsonl > /tmp/655.jsonl"
   ]
  },
  {
   "cell_type": "code",
   "execution_count": 5,
   "metadata": {
    "pycharm": {
     "name": "#%%\n"
    }
   },
   "outputs": [],
   "source": [
    "df = pd.read_json(\"/tmp/655.jsonl\", lines=True)"
   ]
  },
  {
   "cell_type": "code",
   "execution_count": 7,
   "metadata": {
    "pycharm": {
     "name": "#%%\n"
    }
   },
   "outputs": [],
   "source": [
    "df[\"date\"] = pd.to_datetime(df[\"date\"])"
   ]
  },
  {
   "cell_type": "code",
   "execution_count": null,
   "metadata": {
    "pycharm": {
     "name": "#%%\n"
    }
   },
   "outputs": [],
   "source": [
    "df[\"numbers\"].explode()"
   ]
  },
  {
   "cell_type": "code",
   "execution_count": 41,
   "metadata": {
    "pycharm": {
     "name": "#%%\n"
    }
   },
   "outputs": [],
   "source": [
    "# check if number of previous days appear in current day\n",
    "def check_prev(data: pd.DataFrame, look_back=7):\n",
    "    out_data = []\n",
    "    for row in data.itertuples():\n",
    "        look_back_date = row.date - datetime.timedelta(days=look_back)\n",
    "        window_data = data[(data[\"date\"] >= look_back_date) & (data[\"date\"] < row.date)]\n",
    "        intersect_numbers = []\n",
    "        intersect_days = []\n",
    "        for lb_row in window_data.itertuples():\n",
    "            look_backs_result = set(lb_row.result)\n",
    "            result = set(row.result)\n",
    "            intersect = look_backs_result.intersection(result)\n",
    "            if len(intersect) > 0:\n",
    "                intersect_numbers += list(intersect)\n",
    "                intersect_days.append(lb_row.date)\n",
    "        out_data.append(\n",
    "            {\n",
    "                \"date\": row.date,\n",
    "                \"result\": row.result,\n",
    "                \"intersect_numbers_n\": len(intersect_numbers),\n",
    "                \"intersect_numbers\": intersect_numbers,\n",
    "                \"intersect_days_n\": len(intersect_days),\n",
    "                \"intersect_days\": intersect_days,\n",
    "            }\n",
    "        )\n",
    "    return pd.DataFrame(out_data)"
   ]
  },
  {
   "cell_type": "code",
   "execution_count": 42,
   "metadata": {
    "pycharm": {
     "name": "#%%\n"
    },
    "scrolled": true
   },
   "outputs": [
    {
     "name": "stdout",
     "output_type": "stream",
     "text": [
      "\n",
      "7\n",
      "0.8599221789883269\n",
      "       intersect_numbers_n  intersect_days_n\n",
      "count           442.000000        442.000000\n",
      "mean              2.794118          1.929864\n",
      "std               1.480229          0.806473\n",
      "min               1.000000          1.000000\n",
      "25%               2.000000          1.000000\n",
      "50%               3.000000          2.000000\n",
      "75%               4.000000          2.000000\n",
      "max               8.000000          5.000000\n",
      "\n",
      "10\n",
      "0.943579766536965\n",
      "       intersect_numbers_n  intersect_days_n\n",
      "count           485.000000        485.000000\n",
      "mean              3.569072          2.498969\n",
      "std               1.800445          1.053575\n",
      "min               1.000000          1.000000\n",
      "25%               2.000000          2.000000\n",
      "50%               3.000000          2.000000\n",
      "75%               5.000000          3.000000\n",
      "max              10.000000          6.000000\n",
      "\n",
      "14\n",
      "0.9708171206225681\n",
      "       intersect_numbers_n  intersect_days_n\n",
      "count           499.000000        499.000000\n",
      "mean              4.889780          3.452906\n",
      "std               2.224786          1.335072\n",
      "min               1.000000          1.000000\n",
      "25%               3.000000          3.000000\n",
      "50%               5.000000          3.000000\n",
      "75%               6.000000          4.000000\n",
      "max              12.000000          7.000000\n",
      "\n",
      "21\n",
      "0.980544747081712\n",
      "       intersect_numbers_n  intersect_days_n\n",
      "count           504.000000        504.000000\n",
      "mean              7.289683          5.214286\n",
      "std               2.858389          1.758172\n",
      "min               1.000000          1.000000\n",
      "25%               5.000000          4.000000\n",
      "50%               7.000000          5.000000\n",
      "75%               9.000000          6.000000\n",
      "max              16.000000         10.000000\n",
      "\n",
      "30\n",
      "0.9902723735408561\n",
      "       intersect_numbers_n  intersect_days_n\n",
      "count           509.000000        509.000000\n",
      "mean             10.469548          7.467583\n",
      "std               3.585507          2.298029\n",
      "min               1.000000          1.000000\n",
      "25%               8.000000          6.000000\n",
      "50%              11.000000          8.000000\n",
      "75%              13.000000          9.000000\n",
      "max              21.000000         14.000000\n"
     ]
    }
   ],
   "source": [
    "lb_range = [7, 10, 14, 21, 30]\n",
    "dffs = {}\n",
    "for lb in lb_range:\n",
    "    df_lb = check_prev(df, lb)\n",
    "    print(\"\")\n",
    "    print(lb)\n",
    "    dff = df_lb[df_lb[\"intersect_days_n\"] > 0]\n",
    "    dffs[lb] = dff\n",
    "    print(len(dff) / len(df))\n",
    "    print(dff.describe())"
   ]
  },
  {
   "cell_type": "code",
   "execution_count": 53,
   "metadata": {
    "pycharm": {
     "name": "#%%\n"
    }
   },
   "outputs": [
    {
     "data": {
      "text/html": [
       "<div>\n",
       "<style scoped>\n",
       "    .dataframe tbody tr th:only-of-type {\n",
       "        vertical-align: middle;\n",
       "    }\n",
       "\n",
       "    .dataframe tbody tr th {\n",
       "        vertical-align: top;\n",
       "    }\n",
       "\n",
       "    .dataframe thead th {\n",
       "        text-align: right;\n",
       "    }\n",
       "</style>\n",
       "<table border=\"1\" class=\"dataframe\">\n",
       "  <thead>\n",
       "    <tr style=\"text-align: right;\">\n",
       "      <th></th>\n",
       "      <th>date</th>\n",
       "      <th>result</th>\n",
       "      <th>intersect_numbers_n</th>\n",
       "      <th>intersect_numbers</th>\n",
       "      <th>intersect_days_n</th>\n",
       "      <th>intersect_days</th>\n",
       "    </tr>\n",
       "  </thead>\n",
       "  <tbody>\n",
       "    <tr>\n",
       "      <th>136</th>\n",
       "      <td>2018-06-16</td>\n",
       "      <td>[14, 15, 21, 30, 44, 47, 48]</td>\n",
       "      <td>6</td>\n",
       "      <td>[48, 15, 21, 15, 48, 47]</td>\n",
       "      <td>4</td>\n",
       "      <td>[2018-06-14 00:00:00, 2018-06-09 00:00:00, 201...</td>\n",
       "    </tr>\n",
       "    <tr>\n",
       "      <th>251</th>\n",
       "      <td>2019-03-14</td>\n",
       "      <td>[18, 21, 25, 35, 44, 53, 4]</td>\n",
       "      <td>7</td>\n",
       "      <td>[25, 4, 25, 35, 4, 44, 21]</td>\n",
       "      <td>4</td>\n",
       "      <td>[2019-03-08 00:00:00, 2019-03-09 00:00:00, 201...</td>\n",
       "    </tr>\n",
       "    <tr>\n",
       "      <th>277</th>\n",
       "      <td>2019-05-14</td>\n",
       "      <td>[6, 11, 15, 21, 30, 40, 10]</td>\n",
       "      <td>7</td>\n",
       "      <td>[21, 30, 10, 30, 6, 40, 11]</td>\n",
       "      <td>4</td>\n",
       "      <td>[2019-05-09 00:00:00, 2019-05-10 00:00:00, 201...</td>\n",
       "    </tr>\n",
       "    <tr>\n",
       "      <th>424</th>\n",
       "      <td>2020-05-16</td>\n",
       "      <td>[19, 35, 38, 49, 52, 55, 1]</td>\n",
       "      <td>5</td>\n",
       "      <td>[55, 19, 1, 52, 38]</td>\n",
       "      <td>4</td>\n",
       "      <td>[2020-05-14 00:00:00, 2020-05-09 00:00:00, 202...</td>\n",
       "    </tr>\n",
       "    <tr>\n",
       "      <th>488</th>\n",
       "      <td>2020-10-15</td>\n",
       "      <td>[8, 38, 41, 47, 50, 52, 45]</td>\n",
       "      <td>7</td>\n",
       "      <td>[50, 52, 45, 50, 47, 52, 45]</td>\n",
       "      <td>4</td>\n",
       "      <td>[2020-10-09 00:00:00, 2020-10-10 00:00:00, 202...</td>\n",
       "    </tr>\n",
       "    <tr>\n",
       "      <th>489</th>\n",
       "      <td>2020-10-17</td>\n",
       "      <td>[3, 14, 25, 37, 49, 54, 53]</td>\n",
       "      <td>6</td>\n",
       "      <td>[53, 54, 53, 53, 3, 54]</td>\n",
       "      <td>4</td>\n",
       "      <td>[2020-10-10 00:00:00, 2020-10-13 00:00:00, 202...</td>\n",
       "    </tr>\n",
       "  </tbody>\n",
       "</table>\n",
       "</div>"
      ],
      "text/plain": [
       "          date                        result  intersect_numbers_n  \\\n",
       "136 2018-06-16  [14, 15, 21, 30, 44, 47, 48]                    6   \n",
       "251 2019-03-14   [18, 21, 25, 35, 44, 53, 4]                    7   \n",
       "277 2019-05-14   [6, 11, 15, 21, 30, 40, 10]                    7   \n",
       "424 2020-05-16   [19, 35, 38, 49, 52, 55, 1]                    5   \n",
       "488 2020-10-15   [8, 38, 41, 47, 50, 52, 45]                    7   \n",
       "489 2020-10-17   [3, 14, 25, 37, 49, 54, 53]                    6   \n",
       "\n",
       "                intersect_numbers  intersect_days_n  \\\n",
       "136      [48, 15, 21, 15, 48, 47]                 4   \n",
       "251    [25, 4, 25, 35, 4, 44, 21]                 4   \n",
       "277   [21, 30, 10, 30, 6, 40, 11]                 4   \n",
       "424           [55, 19, 1, 52, 38]                 4   \n",
       "488  [50, 52, 45, 50, 47, 52, 45]                 4   \n",
       "489       [53, 54, 53, 53, 3, 54]                 4   \n",
       "\n",
       "                                        intersect_days  \n",
       "136  [2018-06-14 00:00:00, 2018-06-09 00:00:00, 201...  \n",
       "251  [2019-03-08 00:00:00, 2019-03-09 00:00:00, 201...  \n",
       "277  [2019-05-09 00:00:00, 2019-05-10 00:00:00, 201...  \n",
       "424  [2020-05-14 00:00:00, 2020-05-09 00:00:00, 202...  \n",
       "488  [2020-10-09 00:00:00, 2020-10-10 00:00:00, 202...  \n",
       "489  [2020-10-10 00:00:00, 2020-10-13 00:00:00, 202...  "
      ]
     },
     "execution_count": 53,
     "metadata": {},
     "output_type": "execute_result"
    }
   ],
   "source": [
    "dffs[7].query(\"intersect_days_n == 4\")"
   ]
  },
  {
   "cell_type": "code",
   "execution_count": 49,
   "metadata": {
    "pycharm": {
     "name": "#%%\n"
    }
   },
   "outputs": [
    {
     "data": {
      "text/plain": [
       "<AxesSubplot:>"
      ]
     },
     "execution_count": 49,
     "metadata": {},
     "output_type": "execute_result"
    },
    {
     "data": {
      "image/png": "[encoded data removed]",
      "text/plain": [
       "<Figure size 576x288 with 1 Axes>"
      ]
     },
     "metadata": {},
     "output_type": "display_data"
    }
   ],
   "source": [
    "dffs[7][\"intersect_days_n\"].hist(figsize=(8, 4))"
   ]
  },
  {
   "cell_type": "code",
   "execution_count": 51,
   "metadata": {
    "pycharm": {
     "name": "#%%\n"
    }
   },
   "outputs": [
    {
     "data": {
      "text/plain": [
       "<AxesSubplot:>"
      ]
     },
     "execution_count": 51,
     "metadata": {},
     "output_type": "execute_result"
    },
    {
     "data": {
      "image/png": "[encoded data removed]",
      "text/plain": [
       "<Figure size 576x288 with 1 Axes>"
      ]
     },
     "metadata": {},
     "output_type": "display_data"
    }
   ],
   "source": [
    "d = dffs[7]\n",
    "d[d[\"date\"] < datetime.datetime(2020, 1, 1)][\"intersect_days_n\"].hist(figsize=(8, 4))"
   ]
  },
  {
   "cell_type": "code",
   "execution_count": 52,
   "metadata": {
    "pycharm": {
     "name": "#%%\n"
    }
   },
   "outputs": [
    {
     "data": {
      "text/plain": [
       "<AxesSubplot:>"
      ]
     },
     "execution_count": 52,
     "metadata": {},
     "output_type": "execute_result"
    },
    {
     "data": {
      "image/png": "[encoded data removed]",
      "text/plain": [
       "<Figure size 576x288 with 1 Axes>"
      ]
     },
     "metadata": {},
     "output_type": "display_data"
    }
   ],
   "source": [
    "d = dffs[7]\n",
    "d[d[\"date\"] >= datetime.datetime(2020, 1, 1)][\"intersect_days_n\"].hist(figsize=(8, 4))"
   ]
  },
  {
   "cell_type": "code",
   "execution_count": null,
   "metadata": {
    "pycharm": {
     "name": "#%%\n"
    }
   },
   "outputs": [],
   "source": []
  }
 ],
 "metadata": {
  "kernelspec": {
   "display_name": "Python 3",
   "language": "python",
   "name": "python3"
  },
  "language_info": {
   "codemirror_mode": {
    "name": "ipython",
    "version": 3
   },
   "file_extension": ".py",
   "mimetype": "text/x-python",
   "name": "python",
   "nbconvert_exporter": "python",
   "pygments_lexer": "ipython3",
   "version": "3.8.6"
  }
 },
 "nbformat": 4,
 "nbformat_minor": 4
}